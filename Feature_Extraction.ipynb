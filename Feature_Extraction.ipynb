{
  "nbformat": 4,
  "nbformat_minor": 0,
  "metadata": {
    "colab": {
      "provenance": [],
      "authorship_tag": "ABX9TyNDFBsTUZPe+/dsL3j2ClLr",
      "include_colab_link": true
    },
    "kernelspec": {
      "name": "python3",
      "display_name": "Python 3"
    },
    "language_info": {
      "name": "python"
    }
  },
  "cells": [
    {
      "cell_type": "markdown",
      "metadata": {
        "id": "view-in-github",
        "colab_type": "text"
      },
      "source": [
        "<a href=\"https://colab.research.google.com/github/mahekgheewala/Google_Collab/blob/new-feature/Feature_Extraction.ipynb\" target=\"_parent\"><img src=\"https://colab.research.google.com/assets/colab-badge.svg\" alt=\"Open In Colab\"/></a>"
      ]
    },
    {
      "cell_type": "markdown",
      "source": [
        "Feature Extraction of Text Data: Tf-idf Vectorizer:\n",
        "The mapping from textual data to real valued vectors is called feature extraction.(text to numerical)"
      ],
      "metadata": {
        "id": "HLxB8V58gvRL"
      }
    },
    {
      "cell_type": "markdown",
      "source": [
        "Bag of Words(BOW): list of unique words in text corpus\n",
        "Term Frequency-Inverse Document Frequency(TF-IDF): To count the number of times each word appears in a document."
      ],
      "metadata": {
        "id": "4TtwmWxw0-JW"
      }
    },
    {
      "cell_type": "markdown",
      "source": [
        "FORMULA:\n",
        "Term Frequency(TF) = Number of times term t appears in a document / number of terms in a document.\n",
        "\n",
        "Inverse Document Frequency(IDF) = log(N/n), where N is the number of documents and n is the number of documents a term t has appeared in.\n",
        "\n",
        "The IDF value of a rare word is high, whereas the IDF of a frequent word is low.\n",
        "\n",
        "TF_IDF value of s term = TF * IDF."
      ],
      "metadata": {
        "id": "L1fGG_K_2BFM"
      }
    },
    {
      "cell_type": "markdown",
      "source": [
        "About the Dataset:\n",
        "id = unique id for a news article\n",
        "title = the title of a news article\n",
        "author = author of news article\n",
        "text = text of article, could be incomplete\n",
        "label = a label that marks whether the news article is real or fake."
      ],
      "metadata": {
        "id": "jsbL_ZXG4p-X"
      }
    },
    {
      "cell_type": "markdown",
      "source": [
        "1: Fake news\n",
        "0: Real news"
      ],
      "metadata": {
        "id": "o4UiDcks480K"
      }
    },
    {
      "cell_type": "code",
      "source": [],
      "metadata": {
        "id": "QVnbGHIB5qo3"
      },
      "execution_count": null,
      "outputs": []
    }
  ]
}